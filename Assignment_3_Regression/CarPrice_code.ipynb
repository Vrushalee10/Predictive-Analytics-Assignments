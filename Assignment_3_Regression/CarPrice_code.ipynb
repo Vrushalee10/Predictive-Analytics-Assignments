{
 "cells": [
  {
   "cell_type": "code",
   "execution_count": 4,
   "id": "8b2365c4-b4b1-4e85-ac83-ab64ac9170f5",
   "metadata": {},
   "outputs": [
    {
     "name": "stdout",
     "output_type": "stream",
     "text": [
      "Collecting dmba\n",
      "  Downloading dmba-0.2.4-py3-none-any.whl.metadata (1.9 kB)\n",
      "Collecting graphviz (from dmba)\n",
      "  Downloading graphviz-0.20.3-py3-none-any.whl.metadata (12 kB)\n",
      "Requirement already satisfied: matplotlib in c:\\users\\shree\\anaconda3\\lib\\site-packages (from dmba) (3.8.4)\n",
      "Requirement already satisfied: numpy in c:\\users\\shree\\anaconda3\\lib\\site-packages (from dmba) (1.26.4)\n",
      "Requirement already satisfied: pandas in c:\\users\\shree\\anaconda3\\lib\\site-packages (from dmba) (2.2.2)\n",
      "Requirement already satisfied: scikit-learn in c:\\users\\shree\\anaconda3\\lib\\site-packages (from dmba) (1.4.2)\n",
      "Requirement already satisfied: scipy in c:\\users\\shree\\anaconda3\\lib\\site-packages (from dmba) (1.12.0)\n",
      "Requirement already satisfied: contourpy>=1.0.1 in c:\\users\\shree\\anaconda3\\lib\\site-packages (from matplotlib->dmba) (1.2.0)\n",
      "Requirement already satisfied: cycler>=0.10 in c:\\users\\shree\\anaconda3\\lib\\site-packages (from matplotlib->dmba) (0.11.0)\n",
      "Requirement already satisfied: fonttools>=4.22.0 in c:\\users\\shree\\anaconda3\\lib\\site-packages (from matplotlib->dmba) (4.51.0)\n",
      "Requirement already satisfied: kiwisolver>=1.3.1 in c:\\users\\shree\\anaconda3\\lib\\site-packages (from matplotlib->dmba) (1.4.4)\n",
      "Requirement already satisfied: packaging>=20.0 in c:\\users\\shree\\anaconda3\\lib\\site-packages (from matplotlib->dmba) (23.2)\n",
      "Requirement already satisfied: pillow>=8 in c:\\users\\shree\\anaconda3\\lib\\site-packages (from matplotlib->dmba) (10.3.0)\n",
      "Requirement already satisfied: pyparsing>=2.3.1 in c:\\users\\shree\\anaconda3\\lib\\site-packages (from matplotlib->dmba) (3.0.9)\n",
      "Requirement already satisfied: python-dateutil>=2.7 in c:\\users\\shree\\anaconda3\\lib\\site-packages (from matplotlib->dmba) (2.9.0.post0)\n",
      "Requirement already satisfied: pytz>=2020.1 in c:\\users\\shree\\anaconda3\\lib\\site-packages (from pandas->dmba) (2024.1)\n",
      "Requirement already satisfied: tzdata>=2022.7 in c:\\users\\shree\\anaconda3\\lib\\site-packages (from pandas->dmba) (2023.3)\n",
      "Requirement already satisfied: joblib>=1.2.0 in c:\\users\\shree\\anaconda3\\lib\\site-packages (from scikit-learn->dmba) (1.4.2)\n",
      "Requirement already satisfied: threadpoolctl>=2.0.0 in c:\\users\\shree\\anaconda3\\lib\\site-packages (from scikit-learn->dmba) (2.2.0)\n",
      "Requirement already satisfied: six>=1.5 in c:\\users\\shree\\anaconda3\\lib\\site-packages (from python-dateutil>=2.7->matplotlib->dmba) (1.16.0)\n",
      "Downloading dmba-0.2.4-py3-none-any.whl (11.8 MB)\n",
      "   ---------------------------------------- 0.0/11.8 MB ? eta -:--:--\n",
      "   ---------------------------------------- 0.0/11.8 MB ? eta -:--:--\n",
      "   ---------------------------------------- 0.0/11.8 MB 487.6 kB/s eta 0:00:25\n",
      "   ---------------------------------------- 0.1/11.8 MB 930.9 kB/s eta 0:00:13\n",
      "    --------------------------------------- 0.2/11.8 MB 1.4 MB/s eta 0:00:09\n",
      "    --------------------------------------- 0.3/11.8 MB 1.4 MB/s eta 0:00:09\n",
      "   - -------------------------------------- 0.4/11.8 MB 1.7 MB/s eta 0:00:07\n",
      "   - -------------------------------------- 0.6/11.8 MB 1.9 MB/s eta 0:00:06\n",
      "   -- ------------------------------------- 0.7/11.8 MB 2.1 MB/s eta 0:00:06\n",
      "   --- ------------------------------------ 0.9/11.8 MB 2.3 MB/s eta 0:00:05\n",
      "   --- ------------------------------------ 1.1/11.8 MB 2.5 MB/s eta 0:00:05\n",
      "   --- ------------------------------------ 1.2/11.8 MB 2.5 MB/s eta 0:00:05\n",
      "   ---- ----------------------------------- 1.3/11.8 MB 2.4 MB/s eta 0:00:05\n",
      "   ---- ----------------------------------- 1.4/11.8 MB 2.5 MB/s eta 0:00:05\n",
      "   ----- ---------------------------------- 1.5/11.8 MB 2.4 MB/s eta 0:00:05\n",
      "   ----- ---------------------------------- 1.7/11.8 MB 2.5 MB/s eta 0:00:05\n",
      "   ----- ---------------------------------- 1.7/11.8 MB 2.5 MB/s eta 0:00:05\n",
      "   ------ --------------------------------- 1.8/11.8 MB 2.4 MB/s eta 0:00:05\n",
      "   ------ --------------------------------- 2.0/11.8 MB 2.5 MB/s eta 0:00:04\n",
      "   ------ --------------------------------- 2.0/11.8 MB 2.5 MB/s eta 0:00:04\n",
      "   ------- -------------------------------- 2.1/11.8 MB 2.4 MB/s eta 0:00:05\n",
      "   ------- -------------------------------- 2.2/11.8 MB 2.3 MB/s eta 0:00:05\n",
      "   ------- -------------------------------- 2.2/11.8 MB 2.2 MB/s eta 0:00:05\n",
      "   ------- -------------------------------- 2.4/11.8 MB 2.3 MB/s eta 0:00:05\n",
      "   -------- ------------------------------- 2.5/11.8 MB 2.3 MB/s eta 0:00:05\n",
      "   -------- ------------------------------- 2.6/11.8 MB 2.3 MB/s eta 0:00:05\n",
      "   --------- ------------------------------ 2.8/11.8 MB 2.3 MB/s eta 0:00:04\n",
      "   --------- ------------------------------ 2.9/11.8 MB 2.4 MB/s eta 0:00:04\n",
      "   ---------- ----------------------------- 3.0/11.8 MB 2.4 MB/s eta 0:00:04\n",
      "   ---------- ----------------------------- 3.0/11.8 MB 2.3 MB/s eta 0:00:04\n",
      "   ---------- ----------------------------- 3.2/11.8 MB 2.3 MB/s eta 0:00:04\n",
      "   ----------- ---------------------------- 3.3/11.8 MB 2.3 MB/s eta 0:00:04\n",
      "   ----------- ---------------------------- 3.4/11.8 MB 2.4 MB/s eta 0:00:04\n",
      "   ------------ --------------------------- 3.6/11.8 MB 2.4 MB/s eta 0:00:04\n",
      "   ------------ --------------------------- 3.7/11.8 MB 2.4 MB/s eta 0:00:04\n",
      "   ------------ --------------------------- 3.8/11.8 MB 2.4 MB/s eta 0:00:04\n",
      "   ------------- -------------------------- 3.9/11.8 MB 2.4 MB/s eta 0:00:04\n",
      "   ------------- -------------------------- 4.1/11.8 MB 2.4 MB/s eta 0:00:04\n",
      "   -------------- ------------------------- 4.2/11.8 MB 2.4 MB/s eta 0:00:04\n",
      "   -------------- ------------------------- 4.3/11.8 MB 2.4 MB/s eta 0:00:04\n",
      "   -------------- ------------------------- 4.4/11.8 MB 2.4 MB/s eta 0:00:04\n",
      "   --------------- ------------------------ 4.5/11.8 MB 2.4 MB/s eta 0:00:04\n",
      "   --------------- ------------------------ 4.6/11.8 MB 2.4 MB/s eta 0:00:04\n",
      "   ---------------- ----------------------- 4.7/11.8 MB 2.4 MB/s eta 0:00:03\n",
      "   ---------------- ----------------------- 4.9/11.8 MB 2.4 MB/s eta 0:00:03\n",
      "   ---------------- ----------------------- 4.9/11.8 MB 2.4 MB/s eta 0:00:03\n",
      "   ---------------- ----------------------- 5.0/11.8 MB 2.3 MB/s eta 0:00:03\n",
      "   ----------------- ---------------------- 5.1/11.8 MB 2.3 MB/s eta 0:00:03\n",
      "   ----------------- ---------------------- 5.2/11.8 MB 2.4 MB/s eta 0:00:03\n",
      "   ------------------ --------------------- 5.3/11.8 MB 2.4 MB/s eta 0:00:03\n",
      "   ------------------ --------------------- 5.5/11.8 MB 2.4 MB/s eta 0:00:03\n",
      "   ------------------- -------------------- 5.6/11.8 MB 2.4 MB/s eta 0:00:03\n",
      "   ------------------- -------------------- 5.7/11.8 MB 2.4 MB/s eta 0:00:03\n",
      "   ------------------- -------------------- 5.9/11.8 MB 2.4 MB/s eta 0:00:03\n",
      "   -------------------- ------------------- 5.9/11.8 MB 2.4 MB/s eta 0:00:03\n",
      "   -------------------- ------------------- 6.1/11.8 MB 2.4 MB/s eta 0:00:03\n",
      "   -------------------- ------------------- 6.2/11.8 MB 2.4 MB/s eta 0:00:03\n",
      "   --------------------- ------------------ 6.3/11.8 MB 2.4 MB/s eta 0:00:03\n",
      "   --------------------- ------------------ 6.5/11.8 MB 2.4 MB/s eta 0:00:03\n",
      "   ---------------------- ----------------- 6.6/11.8 MB 2.4 MB/s eta 0:00:03\n",
      "   ---------------------- ----------------- 6.7/11.8 MB 2.4 MB/s eta 0:00:03\n",
      "   ---------------------- ----------------- 6.7/11.8 MB 2.4 MB/s eta 0:00:03\n",
      "   ----------------------- ---------------- 6.8/11.8 MB 2.4 MB/s eta 0:00:03\n",
      "   ----------------------- ---------------- 6.9/11.8 MB 2.4 MB/s eta 0:00:03\n",
      "   ----------------------- ---------------- 7.0/11.8 MB 2.4 MB/s eta 0:00:03\n",
      "   ------------------------ --------------- 7.1/11.8 MB 2.4 MB/s eta 0:00:02\n",
      "   ------------------------ --------------- 7.2/11.8 MB 2.4 MB/s eta 0:00:02\n",
      "   ------------------------ --------------- 7.2/11.8 MB 2.3 MB/s eta 0:00:02\n",
      "   ------------------------ --------------- 7.4/11.8 MB 2.4 MB/s eta 0:00:02\n",
      "   ------------------------- -------------- 7.5/11.8 MB 2.3 MB/s eta 0:00:02\n",
      "   ------------------------- -------------- 7.5/11.8 MB 2.3 MB/s eta 0:00:02\n",
      "   ------------------------- -------------- 7.5/11.8 MB 2.3 MB/s eta 0:00:02\n",
      "   ------------------------- -------------- 7.7/11.8 MB 2.3 MB/s eta 0:00:02\n",
      "   -------------------------- ------------- 7.8/11.8 MB 2.3 MB/s eta 0:00:02\n",
      "   -------------------------- ------------- 7.9/11.8 MB 2.3 MB/s eta 0:00:02\n",
      "   -------------------------- ------------- 7.9/11.8 MB 2.3 MB/s eta 0:00:02\n",
      "   -------------------------- ------------- 7.9/11.8 MB 2.3 MB/s eta 0:00:02\n",
      "   --------------------------- ------------ 8.1/11.8 MB 2.3 MB/s eta 0:00:02\n",
      "   --------------------------- ------------ 8.2/11.8 MB 2.3 MB/s eta 0:00:02\n",
      "   ---------------------------- ----------- 8.3/11.8 MB 2.3 MB/s eta 0:00:02\n",
      "   ---------------------------- ----------- 8.5/11.8 MB 2.3 MB/s eta 0:00:02\n",
      "   ----------------------------- ---------- 8.6/11.8 MB 2.3 MB/s eta 0:00:02\n",
      "   ----------------------------- ---------- 8.8/11.8 MB 2.3 MB/s eta 0:00:02\n",
      "   ------------------------------ --------- 8.9/11.8 MB 2.3 MB/s eta 0:00:02\n",
      "   ------------------------------ --------- 9.1/11.8 MB 2.3 MB/s eta 0:00:02\n",
      "   ------------------------------- -------- 9.2/11.8 MB 2.3 MB/s eta 0:00:02\n",
      "   ------------------------------- -------- 9.2/11.8 MB 2.3 MB/s eta 0:00:02\n",
      "   ------------------------------- -------- 9.4/11.8 MB 2.3 MB/s eta 0:00:02\n",
      "   -------------------------------- ------- 9.5/11.8 MB 2.3 MB/s eta 0:00:01\n",
      "   -------------------------------- ------- 9.6/11.8 MB 2.3 MB/s eta 0:00:01\n",
      "   -------------------------------- ------- 9.7/11.8 MB 2.3 MB/s eta 0:00:01\n",
      "   --------------------------------- ------ 9.8/11.8 MB 2.3 MB/s eta 0:00:01\n",
      "   --------------------------------- ------ 9.9/11.8 MB 2.3 MB/s eta 0:00:01\n",
      "   --------------------------------- ------ 10.0/11.8 MB 2.3 MB/s eta 0:00:01\n",
      "   ---------------------------------- ----- 10.1/11.8 MB 2.3 MB/s eta 0:00:01\n",
      "   ---------------------------------- ----- 10.2/11.8 MB 2.3 MB/s eta 0:00:01\n",
      "   ---------------------------------- ----- 10.3/11.8 MB 2.3 MB/s eta 0:00:01\n",
      "   ----------------------------------- ---- 10.4/11.8 MB 2.3 MB/s eta 0:00:01\n",
      "   ----------------------------------- ---- 10.5/11.8 MB 2.4 MB/s eta 0:00:01\n",
      "   ------------------------------------ --- 10.7/11.8 MB 2.4 MB/s eta 0:00:01\n",
      "   ------------------------------------ --- 10.8/11.8 MB 2.4 MB/s eta 0:00:01\n",
      "   ------------------------------------ --- 10.8/11.8 MB 2.3 MB/s eta 0:00:01\n",
      "   ------------------------------------- -- 11.0/11.8 MB 2.3 MB/s eta 0:00:01\n",
      "   ------------------------------------- -- 11.1/11.8 MB 2.3 MB/s eta 0:00:01\n",
      "   ------------------------------------- -- 11.2/11.8 MB 2.3 MB/s eta 0:00:01\n",
      "   -------------------------------------- - 11.4/11.8 MB 2.3 MB/s eta 0:00:01\n",
      "   -------------------------------------- - 11.5/11.8 MB 2.3 MB/s eta 0:00:01\n",
      "   ---------------------------------------  11.6/11.8 MB 2.3 MB/s eta 0:00:01\n",
      "   ---------------------------------------  11.7/11.8 MB 2.3 MB/s eta 0:00:01\n",
      "   ---------------------------------------  11.8/11.8 MB 2.3 MB/s eta 0:00:01\n",
      "   ---------------------------------------- 11.8/11.8 MB 2.3 MB/s eta 0:00:00\n",
      "Downloading graphviz-0.20.3-py3-none-any.whl (47 kB)\n",
      "   ---------------------------------------- 0.0/47.1 kB ? eta -:--:--\n",
      "   ---------------------------------------- 47.1/47.1 kB 2.5 MB/s eta 0:00:00\n",
      "Installing collected packages: graphviz, dmba\n",
      "Successfully installed dmba-0.2.4 graphviz-0.20.3\n",
      "Note: you may need to restart the kernel to use updated packages.\n"
     ]
    }
   ],
   "source": [
    "!pip install dmba"
   ]
  },
  {
   "cell_type": "code",
   "execution_count": 6,
   "id": "fb8b6eb1-b21d-44fb-9183-d95465069b9a",
   "metadata": {},
   "outputs": [],
   "source": [
    "#importing necessary libraries\n",
    "from pathlib import Path\n",
    "import pandas as pd\n",
    "import numpy as np\n",
    "from sklearn.linear_model import LinearRegression\n",
    "from sklearn.model_selection import train_test_split\n",
    "from sklearn.preprocessing import StandardScaler\n",
    "import statsmodels.formula.api as sm\n",
    "import matplotlib.pylab as plt\n",
    "import seaborn as sns\n",
    "import dmba #data mining menthods for business analytics\n",
    "from dmba import regressionSummary, exhaustive_search\n",
    "from dmba import backward_elimination, forward_selection,stepwise_selection\n",
    "from dmba import adjusted_r2_score, AIC_score #, BIC_score\n",
    "from sklearn.metrics import mean_absolute_error, r2_score\n",
    "\n",
    "%matplotlib inline"
   ]
  },
  {
   "cell_type": "code",
   "execution_count": 12,
   "id": "f538513e-278d-426a-af08-a9c50562f70f",
   "metadata": {},
   "outputs": [],
   "source": [
    "#loading the required file\n",
    "used_cars = pd.read_csv(\"D:/Users/SHREE/Downloads/ToyotaCorolla.csv\")"
   ]
  },
  {
   "cell_type": "code",
   "execution_count": 14,
   "id": "704343cd-0a19-40e2-9fc7-3a389fc552a9",
   "metadata": {},
   "outputs": [
    {
     "name": "stdout",
     "output_type": "stream",
     "text": [
      "Variables in the data are: \n",
      "['Id', 'Model', 'Price', 'Age_08_04', 'Mfg_Month', 'Mfg_Year', 'KM', 'Fuel_Type', 'HP', 'Met_Color', 'Color', 'Automatic', 'CC', 'Doors', 'Cylinders', 'Gears', 'Quarterly_Tax', 'Weight', 'Mfr_Guarantee', 'BOVAG_Guarantee', 'Guarantee_Period', 'ABS', 'Airbag_1', 'Airbag_2', 'Airco', 'Automatic_airco', 'Boardcomputer', 'CD_Player', 'Central_Lock', 'Powered_Windows', 'Power_Steering', 'Radio', 'Mistlamps', 'Sport_Model', 'Backseat_Divider', 'Metallic_Rim', 'Radio_cassette', 'Parking_Assistant', 'Tow_Bar']\n",
      "\n",
      "First 5 records in the data are:\n"
     ]
    },
    {
     "data": {
      "text/html": [
       "<div>\n",
       "<style scoped>\n",
       "    .dataframe tbody tr th:only-of-type {\n",
       "        vertical-align: middle;\n",
       "    }\n",
       "\n",
       "    .dataframe tbody tr th {\n",
       "        vertical-align: top;\n",
       "    }\n",
       "\n",
       "    .dataframe thead th {\n",
       "        text-align: right;\n",
       "    }\n",
       "</style>\n",
       "<table border=\"1\" class=\"dataframe\">\n",
       "  <thead>\n",
       "    <tr style=\"text-align: right;\">\n",
       "      <th></th>\n",
       "      <th>Id</th>\n",
       "      <th>Model</th>\n",
       "      <th>Price</th>\n",
       "      <th>Age_08_04</th>\n",
       "      <th>Mfg_Month</th>\n",
       "      <th>Mfg_Year</th>\n",
       "      <th>KM</th>\n",
       "      <th>Fuel_Type</th>\n",
       "      <th>HP</th>\n",
       "      <th>Met_Color</th>\n",
       "      <th>...</th>\n",
       "      <th>Powered_Windows</th>\n",
       "      <th>Power_Steering</th>\n",
       "      <th>Radio</th>\n",
       "      <th>Mistlamps</th>\n",
       "      <th>Sport_Model</th>\n",
       "      <th>Backseat_Divider</th>\n",
       "      <th>Metallic_Rim</th>\n",
       "      <th>Radio_cassette</th>\n",
       "      <th>Parking_Assistant</th>\n",
       "      <th>Tow_Bar</th>\n",
       "    </tr>\n",
       "  </thead>\n",
       "  <tbody>\n",
       "    <tr>\n",
       "      <th>0</th>\n",
       "      <td>1</td>\n",
       "      <td>TOYOTA Corolla 2.0 D4D HATCHB TERRA 2/3-Doors</td>\n",
       "      <td>13500</td>\n",
       "      <td>23</td>\n",
       "      <td>10</td>\n",
       "      <td>2002</td>\n",
       "      <td>46986</td>\n",
       "      <td>Diesel</td>\n",
       "      <td>90</td>\n",
       "      <td>1</td>\n",
       "      <td>...</td>\n",
       "      <td>1</td>\n",
       "      <td>1</td>\n",
       "      <td>0</td>\n",
       "      <td>0</td>\n",
       "      <td>0</td>\n",
       "      <td>1</td>\n",
       "      <td>0</td>\n",
       "      <td>0</td>\n",
       "      <td>0</td>\n",
       "      <td>0</td>\n",
       "    </tr>\n",
       "    <tr>\n",
       "      <th>1</th>\n",
       "      <td>2</td>\n",
       "      <td>TOYOTA Corolla 2.0 D4D HATCHB TERRA 2/3-Doors</td>\n",
       "      <td>13750</td>\n",
       "      <td>23</td>\n",
       "      <td>10</td>\n",
       "      <td>2002</td>\n",
       "      <td>72937</td>\n",
       "      <td>Diesel</td>\n",
       "      <td>90</td>\n",
       "      <td>1</td>\n",
       "      <td>...</td>\n",
       "      <td>0</td>\n",
       "      <td>1</td>\n",
       "      <td>0</td>\n",
       "      <td>0</td>\n",
       "      <td>0</td>\n",
       "      <td>1</td>\n",
       "      <td>0</td>\n",
       "      <td>0</td>\n",
       "      <td>0</td>\n",
       "      <td>0</td>\n",
       "    </tr>\n",
       "    <tr>\n",
       "      <th>2</th>\n",
       "      <td>3</td>\n",
       "      <td>TOYOTA Corolla 2.0 D4D HATCHB TERRA 2/3-Doors</td>\n",
       "      <td>13950</td>\n",
       "      <td>24</td>\n",
       "      <td>9</td>\n",
       "      <td>2002</td>\n",
       "      <td>41711</td>\n",
       "      <td>Diesel</td>\n",
       "      <td>90</td>\n",
       "      <td>1</td>\n",
       "      <td>...</td>\n",
       "      <td>0</td>\n",
       "      <td>1</td>\n",
       "      <td>0</td>\n",
       "      <td>0</td>\n",
       "      <td>0</td>\n",
       "      <td>1</td>\n",
       "      <td>0</td>\n",
       "      <td>0</td>\n",
       "      <td>0</td>\n",
       "      <td>0</td>\n",
       "    </tr>\n",
       "    <tr>\n",
       "      <th>3</th>\n",
       "      <td>4</td>\n",
       "      <td>TOYOTA Corolla 2.0 D4D HATCHB TERRA 2/3-Doors</td>\n",
       "      <td>14950</td>\n",
       "      <td>26</td>\n",
       "      <td>7</td>\n",
       "      <td>2002</td>\n",
       "      <td>48000</td>\n",
       "      <td>Diesel</td>\n",
       "      <td>90</td>\n",
       "      <td>0</td>\n",
       "      <td>...</td>\n",
       "      <td>0</td>\n",
       "      <td>1</td>\n",
       "      <td>0</td>\n",
       "      <td>0</td>\n",
       "      <td>0</td>\n",
       "      <td>1</td>\n",
       "      <td>0</td>\n",
       "      <td>0</td>\n",
       "      <td>0</td>\n",
       "      <td>0</td>\n",
       "    </tr>\n",
       "    <tr>\n",
       "      <th>4</th>\n",
       "      <td>5</td>\n",
       "      <td>TOYOTA Corolla 2.0 D4D HATCHB SOL 2/3-Doors</td>\n",
       "      <td>13750</td>\n",
       "      <td>30</td>\n",
       "      <td>3</td>\n",
       "      <td>2002</td>\n",
       "      <td>38500</td>\n",
       "      <td>Diesel</td>\n",
       "      <td>90</td>\n",
       "      <td>0</td>\n",
       "      <td>...</td>\n",
       "      <td>1</td>\n",
       "      <td>1</td>\n",
       "      <td>0</td>\n",
       "      <td>1</td>\n",
       "      <td>0</td>\n",
       "      <td>1</td>\n",
       "      <td>0</td>\n",
       "      <td>0</td>\n",
       "      <td>0</td>\n",
       "      <td>0</td>\n",
       "    </tr>\n",
       "  </tbody>\n",
       "</table>\n",
       "<p>5 rows × 39 columns</p>\n",
       "</div>"
      ],
      "text/plain": [
       "   Id                                          Model  Price  Age_08_04  \\\n",
       "0   1  TOYOTA Corolla 2.0 D4D HATCHB TERRA 2/3-Doors  13500         23   \n",
       "1   2  TOYOTA Corolla 2.0 D4D HATCHB TERRA 2/3-Doors  13750         23   \n",
       "2   3  TOYOTA Corolla 2.0 D4D HATCHB TERRA 2/3-Doors  13950         24   \n",
       "3   4  TOYOTA Corolla 2.0 D4D HATCHB TERRA 2/3-Doors  14950         26   \n",
       "4   5    TOYOTA Corolla 2.0 D4D HATCHB SOL 2/3-Doors  13750         30   \n",
       "\n",
       "   Mfg_Month  Mfg_Year     KM Fuel_Type  HP  Met_Color  ... Powered_Windows  \\\n",
       "0         10      2002  46986    Diesel  90          1  ...               1   \n",
       "1         10      2002  72937    Diesel  90          1  ...               0   \n",
       "2          9      2002  41711    Diesel  90          1  ...               0   \n",
       "3          7      2002  48000    Diesel  90          0  ...               0   \n",
       "4          3      2002  38500    Diesel  90          0  ...               1   \n",
       "\n",
       "   Power_Steering  Radio  Mistlamps  Sport_Model  Backseat_Divider  \\\n",
       "0               1      0          0            0                 1   \n",
       "1               1      0          0            0                 1   \n",
       "2               1      0          0            0                 1   \n",
       "3               1      0          0            0                 1   \n",
       "4               1      0          1            0                 1   \n",
       "\n",
       "   Metallic_Rim  Radio_cassette  Parking_Assistant  Tow_Bar  \n",
       "0             0               0                  0        0  \n",
       "1             0               0                  0        0  \n",
       "2             0               0                  0        0  \n",
       "3             0               0                  0        0  \n",
       "4             0               0                  0        0  \n",
       "\n",
       "[5 rows x 39 columns]"
      ]
     },
     "execution_count": 14,
     "metadata": {},
     "output_type": "execute_result"
    }
   ],
   "source": [
    "#data exploration\n",
    "columns = list(used_cars.columns)\n",
    "print(\"Variables in the data are: \")\n",
    "print(columns)\n",
    "\n",
    "# review first 5 records in the data\n",
    "print(\"\\nFirst 5 records in the data are:\")\n",
    "used_cars.head()"
   ]
  },
  {
   "cell_type": "code",
   "execution_count": 16,
   "id": "2ed820da-0ad2-4003-b445-bd0b22f905cf",
   "metadata": {},
   "outputs": [],
   "source": [
    "#determining the outcome variable\n",
    "used_cars.columns\n",
    "outcome = 'Price'"
   ]
  },
  {
   "cell_type": "code",
   "execution_count": 18,
   "id": "4cb0dffd-4e3a-4f91-8dc6-45789b25ef14",
   "metadata": {},
   "outputs": [],
   "source": [
    "#determining predictors\n",
    "predictors = ['Age_08_04', 'KM', 'Fuel_Type','HP','Automatic','Doors','Quarterly_Tax','Mfr_Guarantee','Guarantee_Period','Airco','Automatic_airco','CD_Player','Powered_Windows','Sport_Model','Tow_Bar']"
   ]
  },
  {
   "cell_type": "code",
   "execution_count": 20,
   "id": "cc36a994-65c2-4bf2-80cb-85a308228d08",
   "metadata": {},
   "outputs": [],
   "source": [
    "#using the predictors for further analysis\n",
    "used_cars_pred=used_cars[predictors]"
   ]
  },
  {
   "cell_type": "code",
   "execution_count": 22,
   "id": "39232da5-0da8-4669-8d82-a20945d52480",
   "metadata": {},
   "outputs": [],
   "source": [
    "#creating dummy variables for 'Fuel_Type' predictor as it is a categorical data\n",
    "used_cars_pred = pd.get_dummies(used_cars_pred, columns=['Fuel_Type'], drop_first=True)"
   ]
  },
  {
   "cell_type": "code",
   "execution_count": 24,
   "id": "867895eb-7f7e-41e2-b0bb-af61e1d061f0",
   "metadata": {},
   "outputs": [],
   "source": [
    "#variables for the regression model\n",
    "x=used_cars_pred\n",
    "y = used_cars[outcome]"
   ]
  },
  {
   "cell_type": "code",
   "execution_count": 26,
   "id": "b4543a4d-fb93-450d-82cc-6c1cd05649ce",
   "metadata": {},
   "outputs": [
    {
     "name": "stdout",
     "output_type": "stream",
     "text": [
      "Training set: (861, 16) Validation set: (575, 16)\n"
     ]
    }
   ],
   "source": [
    "#partitioning the data into training and validation sets\n",
    "train_x, valid_x, train_y, valid_y = train_test_split(x, y, test_size=0.4,random_state=1)\n",
    "print('Training set:', train_x.shape, 'Validation set:', valid_x.shape)"
   ]
  },
  {
   "cell_type": "code",
   "execution_count": 30,
   "id": "a2bd25ab-d360-4339-ad9d-9e9acc8c31e3",
   "metadata": {},
   "outputs": [],
   "source": [
    "scaler = StandardScaler()"
   ]
  },
  {
   "cell_type": "code",
   "execution_count": 32,
   "id": "260ed540-aaaf-49d9-8f54-d76cba9276a9",
   "metadata": {},
   "outputs": [],
   "source": [
    "# Fit the scaler on the training data and testing data\n",
    "train_x_scaled = scaler.fit_transform(train_x)\n",
    "valid_x_scaled = scaler.transform(valid_x)"
   ]
  },
  {
   "cell_type": "code",
   "execution_count": 36,
   "id": "cb8d5744-0464-4316-97b3-338d1233277a",
   "metadata": {},
   "outputs": [
    {
     "name": "stdout",
     "output_type": "stream",
     "text": [
      "intercept  10774.15331010453\n",
      "           Predictor  coefficient\n",
      "0          Age_08_04 -2087.316503\n",
      "1                 KM  -734.172694\n",
      "2                 HP   523.660819\n",
      "3          Automatic   158.956608\n",
      "4              Doors   210.131678\n",
      "5      Quarterly_Tax   677.907018\n",
      "6      Mfr_Guarantee    70.404503\n",
      "7   Guarantee_Period   221.720284\n",
      "8              Airco    41.845983\n",
      "9    Automatic_airco   715.623969\n",
      "10         CD_Player   143.450146\n",
      "11   Powered_Windows   255.659686\n",
      "12       Sport_Model   221.035490\n",
      "13           Tow_Bar   -94.382525\n",
      "14  Fuel_Type_Diesel   611.681603\n",
      "15  Fuel_Type_Petrol   597.760444\n"
     ]
    }
   ],
   "source": [
    "#fit the regression model y on x and print coefficients\n",
    "used_cars_lm = LinearRegression()\n",
    "used_cars_lm.fit(train_x_scaled,train_y)\n",
    "print('intercept ', used_cars_lm.intercept_)\n",
    "print(pd.DataFrame({'Predictor': train_x.columns, 'coefficient':used_cars_lm.coef_}))"
   ]
  },
  {
   "cell_type": "markdown",
   "id": "84cd7d97-4954-47cf-a6f2-a7fa8053ab15",
   "metadata": {},
   "source": [
    "most important car specifications for predicting the car’s price are :\n",
    "\n",
    "Age_08_04   -2087.316503\n",
    "KM           -734.172694\n",
    "Automatic_airco   715.623969\n",
    "Fuel_Type_Diesel   611.681603\n",
    "Fuel_Type_Petrol   597.760444\r",
    "9"
   ]
  },
  {
   "cell_type": "code",
   "execution_count": 41,
   "id": "a1e935d6-55a4-4f1e-9a85-08c6ccdadc05",
   "metadata": {},
   "outputs": [
    {
     "name": "stdout",
     "output_type": "stream",
     "text": [
      "\n",
      "Model performance on validation data:\n",
      "\n",
      "Regression statistics\n",
      "\n",
      "                      Mean Error (ME) : 66.0755\n",
      "       Root Mean Squared Error (RMSE) : 1197.2318\n",
      "            Mean Absolute Error (MAE) : 929.5707\n",
      "          Mean Percentage Error (MPE) : -0.1101\n",
      "Mean Absolute Percentage Error (MAPE) : 9.3825\n"
     ]
    }
   ],
   "source": [
    "# predict prices in validation set, print first few predicted/actualvalues and residuals\n",
    "used_cars_lm_pred = used_cars_lm.predict(valid_x_scaled)\n",
    "result = pd.DataFrame({'Predicted': used_cars_lm_pred, 'Actual': valid_y,'Residual': valid_y - used_cars_lm_pred})\n",
    "# print performance measures (validation set)\n",
    "print(\"\\nModel performance on validation data:\")\n",
    "regressionSummary(valid_y, used_cars_lm_pred)"
   ]
  },
  {
   "cell_type": "code",
   "execution_count": 43,
   "id": "e9e8d235-3ab1-4215-90b6-0094c3ce4da6",
   "metadata": {},
   "outputs": [
    {
     "name": "stdout",
     "output_type": "stream",
     "text": [
      "R-squared value 0.8830182362978589\n"
     ]
    }
   ],
   "source": [
    "#calculating the r-squared value for analysis\n",
    "r2_all = r2_score(valid_y, used_cars_lm_pred)\n",
    "print(\"R-squared value\",r2_all)"
   ]
  },
  {
   "cell_type": "markdown",
   "id": "3ddc6e8c-6e9c-43d7-ab77-9bb9dccee56e",
   "metadata": {},
   "source": [
    "We determined on the best-set for the predictions using the below models of elimination"
   ]
  },
  {
   "cell_type": "code",
   "execution_count": 51,
   "id": "36f72daa-4501-40ac-93be-266a0bcde6b6",
   "metadata": {},
   "outputs": [
    {
     "name": "stdout",
     "output_type": "stream",
     "text": [
      "Variables: Age_08_04, KM, HP, Automatic, Doors, Quarterly_Tax, Mfr_Guarantee, Guarantee_Period, Airco, Automatic_airco, CD_Player, Powered_Windows, Sport_Model, Tow_Bar, Fuel_Type_Diesel, Fuel_Type_Petrol\n",
      "Start: score=14717.40\n",
      "Step: score=14716.03, remove Airco\n",
      "Step: score=14716.03, remove None\n",
      "Best Subset: ['Age_08_04', 'KM', 'HP', 'Automatic', 'Doors', 'Quarterly_Tax', 'Mfr_Guarantee', 'Guarantee_Period', 'Automatic_airco', 'CD_Player', 'Powered_Windows', 'Sport_Model', 'Tow_Bar', 'Fuel_Type_Diesel', 'Fuel_Type_Petrol']\n"
     ]
    }
   ],
   "source": [
    "#backward elimination model\n",
    "def train_model(variables):\n",
    "    model = LinearRegression()\n",
    "    model.fit(train_x[variables], train_y)\n",
    "    return model\n",
    "def score_model(model, variables):\n",
    "    return AIC_score(train_y, model.predict(train_x[variables]), model)\n",
    "best_model, best_variables = backward_elimination(train_x.columns,\n",
    "train_model, score_model, verbose=True)\n",
    "print(\"Best Subset:\", best_variables)"
   ]
  },
  {
   "cell_type": "code",
   "execution_count": 167,
   "id": "020fb3d4-2837-4e2f-9a27-eb943a1a1f93",
   "metadata": {},
   "outputs": [
    {
     "name": "stdout",
     "output_type": "stream",
     "text": [
      "Variables: Age_08_04, KM, HP, Automatic, Doors, Quarterly_Tax, Mfr_Guarantee, Guarantee_Period, Airco, Automatic_airco, CD_Player, Powered_Windows, Sport_Model, Tow_Bar, Fuel_Type_Diesel, Fuel_Type_Petrol\n",
      "Start: score=16598.48, constant\n",
      "Step: score=15340.94, add Age_08_04\n",
      "Step: score=15106.55, add Automatic_airco\n",
      "Step: score=15004.56, add HP\n",
      "Step: score=14948.26, add KM\n",
      "Step: score=14828.95, add Quarterly_Tax\n",
      "Step: score=14797.06, add Powered_Windows\n",
      "Step: score=14784.66, add Doors\n",
      "Step: score=14766.99, add Sport_Model\n",
      "Step: score=14750.16, add Guarantee_Period\n",
      "Step: score=14739.27, add Automatic\n",
      "Step: score=14734.58, add CD_Player\n",
      "Step: score=14732.05, add Fuel_Type_Diesel\n",
      "Step: score=14718.58, add Fuel_Type_Petrol\n",
      "Step: score=14716.53, add Tow_Bar\n",
      "Step: score=14716.03, add Mfr_Guarantee\n",
      "Step: score=14716.03, add None\n",
      "Best Subset: ['Age_08_04', 'Automatic_airco', 'HP', 'KM', 'Quarterly_Tax', 'Powered_Windows', 'Doors', 'Sport_Model', 'Guarantee_Period', 'Automatic', 'CD_Player', 'Fuel_Type_Diesel', 'Fuel_Type_Petrol', 'Tow_Bar', 'Mfr_Guarantee']\n"
     ]
    }
   ],
   "source": [
    "def train_model(variables):\n",
    "    if len(variables) == 0:\n",
    "        return None\n",
    "    model = LinearRegression()\n",
    "    model.fit(train_x[variables], train_y)\n",
    "    return model\n",
    "def score_model(model, variables):\n",
    "    if len(variables) == 0:\n",
    "        return AIC_score(train_y, [train_y.mean()] * len(train_y), model,df=1)\n",
    "    return AIC_score(train_y, model.predict(train_x[variables]), model)\n",
    "best_model, best_variables = forward_selection(train_x.columns,\n",
    "train_model, score_model, verbose=True)\n",
    "print(\"Best Subset:\", best_variables)"
   ]
  },
  {
   "cell_type": "code",
   "execution_count": 170,
   "id": "fce67c41-f335-443a-9335-f3349fea00d5",
   "metadata": {},
   "outputs": [
    {
     "name": "stdout",
     "output_type": "stream",
     "text": [
      "Variables: Age_08_04, KM, HP, Automatic, Doors, Quarterly_Tax, Mfr_Guarantee, Guarantee_Period, Airco, Automatic_airco, CD_Player, Powered_Windows, Sport_Model, Tow_Bar, Fuel_Type_Diesel, Fuel_Type_Petrol\n",
      "Start: score=16598.48, constant\n",
      "Step: score=15340.94, add Age_08_04\n",
      "Step: score=15106.55, add Automatic_airco\n",
      "Step: score=15004.56, add HP\n",
      "Step: score=14948.26, add KM\n",
      "Step: score=14828.95, add Quarterly_Tax\n",
      "Step: score=14797.06, add Powered_Windows\n",
      "Step: score=14784.66, add Doors\n",
      "Step: score=14766.99, add Sport_Model\n",
      "Step: score=14750.16, add Guarantee_Period\n",
      "Step: score=14739.27, add Automatic\n",
      "Step: score=14734.58, add CD_Player\n",
      "Step: score=14732.05, add Fuel_Type_Diesel\n",
      "Step: score=14718.58, add Fuel_Type_Petrol\n",
      "Step: score=14716.53, add Tow_Bar\n",
      "Step: score=14716.03, add Mfr_Guarantee\n",
      "Step: score=14716.03, unchanged None\n",
      "Best Subset: ['Age_08_04', 'Automatic_airco', 'HP', 'KM', 'Quarterly_Tax', 'Powered_Windows', 'Doors', 'Sport_Model', 'Guarantee_Period', 'Automatic', 'CD_Player', 'Fuel_Type_Diesel', 'Fuel_Type_Petrol', 'Tow_Bar', 'Mfr_Guarantee']\n"
     ]
    }
   ],
   "source": [
    "best_model, best_variables = stepwise_selection(train_x_scaled.columns,train_model, score_model, verbose=True)\n",
    "print(\"Best Subset:\", best_variables)"
   ]
  },
  {
   "cell_type": "code",
   "execution_count": 61,
   "id": "4f20cdb0-496c-48ed-9cbe-ab9dbf60c544",
   "metadata": {},
   "outputs": [
    {
     "name": "stdout",
     "output_type": "stream",
     "text": [
      "intercept 10774.15331010453\n",
      "           Predictor  coefficient\n",
      "0          Age_08_04 -2098.271609\n",
      "1    Automatic_airco   716.916447\n",
      "2                 HP   528.776428\n",
      "3                 KM  -731.646898\n",
      "4      Quarterly_Tax   675.551446\n",
      "5    Powered_Windows   273.890839\n",
      "6              Doors   211.737141\n",
      "7        Sport_Model   220.651204\n",
      "8   Guarantee_Period   219.830453\n",
      "9          Automatic   159.039067\n",
      "10         CD_Player   144.695537\n",
      "11  Fuel_Type_Diesel   610.839141\n",
      "12  Fuel_Type_Petrol   590.955467\n",
      "13           Tow_Bar   -92.660809\n",
      "14     Mfr_Guarantee    70.191718\n"
     ]
    }
   ],
   "source": [
    "# fit the model with best subset variables obtained from elimination models\n",
    "outcome = 'Price'\n",
    "predictors = ['Age_08_04', 'Automatic_airco', 'HP', 'KM', \n",
    "              'Quarterly_Tax', 'Powered_Windows', 'Doors', 'Sport_Model', \n",
    "              'Guarantee_Period', 'Automatic', 'CD_Player', 'Fuel_Type_Diesel', \n",
    "              'Fuel_Type_Petrol', 'Tow_Bar', 'Mfr_Guarantee']\n",
    "x_train_new = train_x[predictors]\n",
    "x_valid_new = valid_x[predictors]\n",
    "y = train_y\n",
    "\n",
    "# Fit the scaler on the training data and testing data\n",
    "train_x_scaled_new = scaler.fit_transform(x_train_new)\n",
    "valid_x_scaled_new = scaler.fit_transform(x_valid_new)\n",
    "\n",
    "#valid_x_scaled = scaler.transform(valid_x)\n",
    "\n",
    "# fit the regression model y on X\n",
    "used_cars_lm = LinearRegression()\n",
    "used_cars_lm.fit(train_x_scaled_new,y)\n",
    "\n",
    "# regression model, print coefficients\n",
    "print('intercept', used_cars_lm.intercept_)\n",
    "print(pd.DataFrame({'Predictor': x.columns, 'coefficient':used_cars_lm.coef_}))"
   ]
  },
  {
   "cell_type": "markdown",
   "id": "880efa23-a15a-4806-8f6f-94c29b83bcc7",
   "metadata": {},
   "source": [
    "most important car specifications for predicting the car’s price are :\n",
    "\n",
    "Age_08_04 -2098.271609\n",
    "KM  -731.646898\n",
    "Automatic_airco   716.916447\n",
    "Fuel_Type_Diesel   610.839141\n",
    "Fuel_Type_Petrol   590.955467\n"
   ]
  },
  {
   "cell_type": "code",
   "execution_count": 65,
   "id": "92722f79-7942-4393-a509-7abbc1b823b5",
   "metadata": {},
   "outputs": [
    {
     "name": "stdout",
     "output_type": "stream",
     "text": [
      "\n",
      "Model performance on validation data:\n",
      "\n",
      "Regression statistics\n",
      "\n",
      "                      Mean Error (ME) : -108.2090\n",
      "       Root Mean Squared Error (RMSE) : 1220.0170\n",
      "            Mean Absolute Error (MAE) : 947.2445\n",
      "          Mean Percentage Error (MPE) : -1.6244\n",
      "Mean Absolute Percentage Error (MAPE) : 9.6390\n"
     ]
    }
   ],
   "source": [
    "used_cars_lm_pred = used_cars_lm.predict(valid_x_scaled_new)\n",
    "result = pd.DataFrame({'Predicted': used_cars_lm_pred, 'Actual': valid_y,'Residual': valid_y - used_cars_lm_pred})\n",
    "# print performance measures (validation set)\n",
    "print(\"\\nModel performance on validation data:\")\n",
    "regressionSummary(valid_y, used_cars_lm_pred)"
   ]
  },
  {
   "cell_type": "code",
   "execution_count": 67,
   "id": "d465d170-68fb-4dff-921a-b64000068360",
   "metadata": {},
   "outputs": [
    {
     "name": "stdout",
     "output_type": "stream",
     "text": [
      "R-squared value 0.8785231624285312\n"
     ]
    }
   ],
   "source": [
    "r2_all = r2_score(valid_y, used_cars_lm_pred)\n",
    "print(\"R-squared value\",r2_all)"
   ]
  },
  {
   "cell_type": "code",
   "execution_count": null,
   "id": "31e08369-fb92-420b-8300-2be96e8214b7",
   "metadata": {
    "editable": true,
    "slideshow": {
     "slide_type": ""
    },
    "tags": []
   },
   "outputs": [],
   "source": []
  }
 ],
 "metadata": {
  "kernelspec": {
   "display_name": "Python 3 (ipykernel)",
   "language": "python",
   "name": "python3"
  },
  "language_info": {
   "codemirror_mode": {
    "name": "ipython",
    "version": 3
   },
   "file_extension": ".py",
   "mimetype": "text/x-python",
   "name": "python",
   "nbconvert_exporter": "python",
   "pygments_lexer": "ipython3",
   "version": "3.12.4"
  }
 },
 "nbformat": 4,
 "nbformat_minor": 5
}
